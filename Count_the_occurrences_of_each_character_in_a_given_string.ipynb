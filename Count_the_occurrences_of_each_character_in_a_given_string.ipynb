{
 "cells": [
  {
   "cell_type": "markdown",
   "metadata": {},
   "source": [
    "Version 1: Keeping numbers and punctuations"
   ]
  },
  {
   "cell_type": "code",
   "execution_count": 4,
   "metadata": {},
   "outputs": [],
   "source": [
    "def count_char(string):\n",
    "    char_dist = {} \n",
    "    for keys in string: \n",
    "        char_dist[keys] = char_dist.get(keys, 0) + 1\n",
    "    result = sorted(char_dist.items())\n",
    "    result = [list(element) for element in result] \n",
    "    return result"
   ]
  },
  {
   "cell_type": "code",
   "execution_count": 5,
   "metadata": {},
   "outputs": [
    {
     "name": "stdout",
     "output_type": "stream",
     "text": [
      "[[' ', 40], [',', 3], ['-', 5], ['.', 1], ['1', 2], ['6', 1], ['8', 1], ['B', 1], ['C', 2], ['D', 1], ['F', 1], ['H', 1], ['P', 1], ['S', 1], ['T', 1], ['a', 22], ['b', 2], ['c', 8], ['d', 14], ['e', 29], ['f', 5], ['g', 4], ['h', 11], ['i', 11], ['k', 2], ['l', 7], ['m', 6], ['n', 19], ['o', 15], ['p', 3], ['r', 18], ['s', 9], ['t', 15], ['u', 7], ['v', 1], ['w', 6], ['y', 4], ['’', 1]]\n"
     ]
    }
   ],
   "source": [
    "string = \"The new patients were an 18-year-old female student who returned from Britain on Friday, and a 61-year-old man whose granddaughter and domestic helper was infected previously, according to Dr Chuang Shuk-kwan, head of the Centre for Health Protection’s communicable disease branch.\"\n",
    "print(count_char(string))"
   ]
  },
  {
   "cell_type": "markdown",
   "metadata": {},
   "source": [
    "Version 2: Removing all numbers and punctuations, and do not distinguishing character cases "
   ]
  },
  {
   "cell_type": "code",
   "execution_count": 10,
   "metadata": {},
   "outputs": [],
   "source": [
    "import re\n",
    "def count_char(string):\n",
    "    string = re.sub(r\"[^a-z]\",\"\",string.lower())\n",
    "    char_dist = {} \n",
    "    for keys in string: \n",
    "        char_dist[keys] = char_dist.get(keys, 0) + 1\n",
    "    result = sorted(char_dist.items())\n",
    "    result = [list(element) for element in result] \n",
    "    return result"
   ]
  },
  {
   "cell_type": "code",
   "execution_count": 11,
   "metadata": {},
   "outputs": [
    {
     "name": "stdout",
     "output_type": "stream",
     "text": [
      "[['a', 22], ['b', 3], ['c', 10], ['d', 15], ['e', 29], ['f', 6], ['g', 4], ['h', 12], ['i', 11], ['k', 2], ['l', 7], ['m', 6], ['n', 19], ['o', 15], ['p', 4], ['r', 18], ['s', 10], ['t', 16], ['u', 7], ['v', 1], ['w', 6], ['y', 4]]\n"
     ]
    }
   ],
   "source": [
    "print(count_char(string))"
   ]
  },
  {
   "cell_type": "code",
   "execution_count": null,
   "metadata": {},
   "outputs": [],
   "source": []
  }
 ],
 "metadata": {
  "kernelspec": {
   "display_name": "Python 3",
   "language": "python",
   "name": "python3"
  },
  "language_info": {
   "codemirror_mode": {
    "name": "ipython",
    "version": 3
   },
   "file_extension": ".py",
   "mimetype": "text/x-python",
   "name": "python",
   "nbconvert_exporter": "python",
   "pygments_lexer": "ipython3",
   "version": "3.7.6"
  }
 },
 "nbformat": 4,
 "nbformat_minor": 4
}
